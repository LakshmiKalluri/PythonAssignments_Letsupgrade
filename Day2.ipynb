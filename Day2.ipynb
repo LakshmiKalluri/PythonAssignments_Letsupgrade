{
  "nbformat": 4,
  "nbformat_minor": 0,
  "metadata": {
    "colab": {
      "name": "Day2.ipynb",
      "provenance": [],
      "authorship_tag": "ABX9TyNUjUx2yOezCsRXiNAc1RYN",
      "include_colab_link": true
    },
    "kernelspec": {
      "name": "python3",
      "display_name": "Python 3"
    }
  },
  "cells": [
    {
      "cell_type": "markdown",
      "metadata": {
        "id": "view-in-github",
        "colab_type": "text"
      },
      "source": [
        "<a href=\"https://colab.research.google.com/github/LakshmiKalluri/PythonAssignments_Letsupgrade/blob/main/Day2.ipynb\" target=\"_parent\"><img src=\"https://colab.research.google.com/assets/colab-badge.svg\" alt=\"Open In Colab\"/></a>"
      ]
    },
    {
      "cell_type": "markdown",
      "metadata": {
        "id": "67pELaAw0HEG"
      },
      "source": [
        "***Assignment-1***\r\n",
        "\r\n",
        "**a.LISTS aND ITS IN-BUILT FUNCTIONS**"
      ]
    },
    {
      "cell_type": "code",
      "metadata": {
        "colab": {
          "base_uri": "https://localhost:8080/"
        },
        "id": "H53eAUjMz-A8",
        "outputId": "f5468788-1cd3-44ab-9e65-785a08af23ae"
      },
      "source": [
        "lst = [3,5,\"Rabbit\",\"Giraffee\",7]\r\n",
        "lst"
      ],
      "execution_count": null,
      "outputs": [
        {
          "output_type": "execute_result",
          "data": {
            "text/plain": [
              "[3, 5, 'Rabbit', 'Giraffee', 7]"
            ]
          },
          "metadata": {
            "tags": []
          },
          "execution_count": 3
        }
      ]
    },
    {
      "cell_type": "code",
      "metadata": {
        "colab": {
          "base_uri": "https://localhost:8080/"
        },
        "id": "iPkHB8MQ0udF",
        "outputId": "7c628645-2674-428f-c2f2-7a8a737ba237"
      },
      "source": [
        "lst.append(\"Human\")\r\n",
        "lst"
      ],
      "execution_count": null,
      "outputs": [
        {
          "output_type": "execute_result",
          "data": {
            "text/plain": [
              "[3, 5, 'Rabbit', 'Giraffee', 7, 'Human']"
            ]
          },
          "metadata": {
            "tags": []
          },
          "execution_count": 4
        }
      ]
    },
    {
      "cell_type": "code",
      "metadata": {
        "colab": {
          "base_uri": "https://localhost:8080/"
        },
        "id": "8U0dc8dC1BeB",
        "outputId": "d05d063b-16b8-4728-cd9f-6da48bbf9a4c"
      },
      "source": [
        "lst.count(\"Rabbit\")"
      ],
      "execution_count": null,
      "outputs": [
        {
          "output_type": "execute_result",
          "data": {
            "text/plain": [
              "1"
            ]
          },
          "metadata": {
            "tags": []
          },
          "execution_count": 10
        }
      ]
    },
    {
      "cell_type": "code",
      "metadata": {
        "colab": {
          "base_uri": "https://localhost:8080/"
        },
        "id": "LjfPntuM2CHq",
        "outputId": "4a909043-1d69-4b4a-b3fa-89cdccb08da8"
      },
      "source": [
        "lst.copy()"
      ],
      "execution_count": null,
      "outputs": [
        {
          "output_type": "execute_result",
          "data": {
            "text/plain": [
              "[3, 5, 'Rabbit', 'Giraffee', 7, 'Human']"
            ]
          },
          "metadata": {
            "tags": []
          },
          "execution_count": 11
        }
      ]
    },
    {
      "cell_type": "code",
      "metadata": {
        "colab": {
          "base_uri": "https://localhost:8080/"
        },
        "id": "2hJI6IoG3swh",
        "outputId": "4a1da1cd-3c58-46dd-d654-77b83910c0bc"
      },
      "source": [
        "lst.insert(5,\"Python\")\r\n",
        "lst"
      ],
      "execution_count": null,
      "outputs": [
        {
          "output_type": "execute_result",
          "data": {
            "text/plain": [
              "[3, 5, 'Rabbit', 'Giraffee', 7, 'Python', 'Human']"
            ]
          },
          "metadata": {
            "tags": []
          },
          "execution_count": 19
        }
      ]
    },
    {
      "cell_type": "code",
      "metadata": {
        "colab": {
          "base_uri": "https://localhost:8080/"
        },
        "id": "bjEOZy5432s-",
        "outputId": "a0838402-cfa2-4c29-d939-d5fda67716c2"
      },
      "source": [
        "lst.index(\"Giraffee\")\r\n"
      ],
      "execution_count": null,
      "outputs": [
        {
          "output_type": "execute_result",
          "data": {
            "text/plain": [
              "3"
            ]
          },
          "metadata": {
            "tags": []
          },
          "execution_count": 21
        }
      ]
    },
    {
      "cell_type": "code",
      "metadata": {
        "colab": {
          "base_uri": "https://localhost:8080/"
        },
        "id": "HW6VPmG-41T6",
        "outputId": "6633364f-131e-4310-ffee-d38726c0faea"
      },
      "source": [
        "lst.remove(7)\r\n",
        "lst\r\n"
      ],
      "execution_count": null,
      "outputs": [
        {
          "output_type": "execute_result",
          "data": {
            "text/plain": [
              "[3, 5, 'Rabbit', 'Giraffee', 'Python', 'Human']"
            ]
          },
          "metadata": {
            "tags": []
          },
          "execution_count": 24
        }
      ]
    },
    {
      "cell_type": "code",
      "metadata": {
        "colab": {
          "base_uri": "https://localhost:8080/"
        },
        "id": "3b9s20_J5YZR",
        "outputId": "17791508-23fe-40e4-9ad3-af575ae1e7ef"
      },
      "source": [
        "lst.reverse()\r\n",
        "lst"
      ],
      "execution_count": null,
      "outputs": [
        {
          "output_type": "execute_result",
          "data": {
            "text/plain": [
              "['Human', 'Python', 'Giraffee', 'Rabbit', 5, 3]"
            ]
          },
          "metadata": {
            "tags": []
          },
          "execution_count": 25
        }
      ]
    },
    {
      "cell_type": "code",
      "metadata": {
        "colab": {
          "base_uri": "https://localhost:8080/"
        },
        "id": "BF7EkI5j5dQ8",
        "outputId": "ea93d2e6-f247-4cfb-f934-ea2723aa9081"
      },
      "source": [
        "lst.pop()"
      ],
      "execution_count": null,
      "outputs": [
        {
          "output_type": "execute_result",
          "data": {
            "text/plain": [
              "3"
            ]
          },
          "metadata": {
            "tags": []
          },
          "execution_count": 27
        }
      ]
    },
    {
      "cell_type": "code",
      "metadata": {
        "colab": {
          "base_uri": "https://localhost:8080/"
        },
        "id": "vhUnsa9M54wn",
        "outputId": "884bb5dc-1a52-4851-e30c-e991c85fdb0d"
      },
      "source": [
        "lst.clear()\r\n",
        "lst"
      ],
      "execution_count": null,
      "outputs": [
        {
          "output_type": "execute_result",
          "data": {
            "text/plain": [
              "[]"
            ]
          },
          "metadata": {
            "tags": []
          },
          "execution_count": 28
        }
      ]
    },
    {
      "cell_type": "code",
      "metadata": {
        "id": "GQBprlc368NH"
      },
      "source": [
        ""
      ],
      "execution_count": null,
      "outputs": []
    },
    {
      "cell_type": "markdown",
      "metadata": {
        "id": "vM9F__H367fl"
      },
      "source": [
        ""
      ]
    },
    {
      "cell_type": "markdown",
      "metadata": {
        "id": "C5MFFdZW6-PE"
      },
      "source": [
        "**DICTIONARY AND ITS IN-BUILT FUNCTIONS**"
      ]
    },
    {
      "cell_type": "code",
      "metadata": {
        "id": "pIpYIURf7NgV"
      },
      "source": [
        "Dictionary = {\"Name\":\"Saiakiran\",\r\n",
        "              \"Profession\":\"Software Engineer\",\r\n",
        "              \"Location\":\"Delhi\"}\r\n",
        "              "
      ],
      "execution_count": null,
      "outputs": []
    },
    {
      "cell_type": "code",
      "metadata": {
        "colab": {
          "base_uri": "https://localhost:8080/",
          "height": 35
        },
        "id": "U0alxQbE8hbb",
        "outputId": "9e3b147c-bffd-426d-fcfa-cfbb89cd6cb2"
      },
      "source": [
        "Dictionary[\"Name\"]"
      ],
      "execution_count": null,
      "outputs": [
        {
          "output_type": "execute_result",
          "data": {
            "application/vnd.google.colaboratory.intrinsic+json": {
              "type": "string"
            },
            "text/plain": [
              "'Saiakiran'"
            ]
          },
          "metadata": {
            "tags": []
          },
          "execution_count": 30
        }
      ]
    },
    {
      "cell_type": "code",
      "metadata": {
        "colab": {
          "base_uri": "https://localhost:8080/",
          "height": 35
        },
        "id": "8tJwU2368mJo",
        "outputId": "6a9622a7-7fc6-4529-a369-d178a3821160"
      },
      "source": [
        "Dictionary.get(\"Location\")"
      ],
      "execution_count": null,
      "outputs": [
        {
          "output_type": "execute_result",
          "data": {
            "application/vnd.google.colaboratory.intrinsic+json": {
              "type": "string"
            },
            "text/plain": [
              "'Delhi'"
            ]
          },
          "metadata": {
            "tags": []
          },
          "execution_count": 32
        }
      ]
    },
    {
      "cell_type": "code",
      "metadata": {
        "colab": {
          "base_uri": "https://localhost:8080/"
        },
        "id": "Fn6fPiBd85qW",
        "outputId": "62724d7d-9038-4d10-a62b-3218fa468914"
      },
      "source": [
        "Dictionary.items()"
      ],
      "execution_count": null,
      "outputs": [
        {
          "output_type": "execute_result",
          "data": {
            "text/plain": [
              "dict_items([('Name', 'Saiakiran'), ('Profession', 'Software Engineer'), ('Location', 'Delhi')])"
            ]
          },
          "metadata": {
            "tags": []
          },
          "execution_count": 33
        }
      ]
    },
    {
      "cell_type": "code",
      "metadata": {
        "colab": {
          "base_uri": "https://localhost:8080/"
        },
        "id": "Rv1wAeGw9KSd",
        "outputId": "9525d2c2-1970-4ffb-d2ac-d5a78b3cae48"
      },
      "source": [
        "Dictionary.keys()"
      ],
      "execution_count": null,
      "outputs": [
        {
          "output_type": "execute_result",
          "data": {
            "text/plain": [
              "dict_keys(['Name', 'Profession', 'Location'])"
            ]
          },
          "metadata": {
            "tags": []
          },
          "execution_count": 34
        }
      ]
    },
    {
      "cell_type": "code",
      "metadata": {
        "colab": {
          "base_uri": "https://localhost:8080/",
          "height": 35
        },
        "id": "f-zg2OBe9U8f",
        "outputId": "55a1dc82-ecda-406a-b1b1-36a13bbb7935"
      },
      "source": [
        "Dictionary.pop(\"Location\")"
      ],
      "execution_count": null,
      "outputs": [
        {
          "output_type": "execute_result",
          "data": {
            "application/vnd.google.colaboratory.intrinsic+json": {
              "type": "string"
            },
            "text/plain": [
              "'Delhi'"
            ]
          },
          "metadata": {
            "tags": []
          },
          "execution_count": 35
        }
      ]
    },
    {
      "cell_type": "code",
      "metadata": {
        "colab": {
          "base_uri": "https://localhost:8080/"
        },
        "id": "YeOH5ZFb954j",
        "outputId": "4428a4e8-8c46-4518-8bbb-983b3b75a703"
      },
      "source": [
        "Dictionary.popitem()"
      ],
      "execution_count": null,
      "outputs": [
        {
          "output_type": "execute_result",
          "data": {
            "text/plain": [
              "('Profession', 'Software Engineer')"
            ]
          },
          "metadata": {
            "tags": []
          },
          "execution_count": 36
        }
      ]
    },
    {
      "cell_type": "code",
      "metadata": {
        "id": "1O8-0MVL-Hpk"
      },
      "source": [
        "Dictionary2 = {\"Age\":25}"
      ],
      "execution_count": null,
      "outputs": []
    },
    {
      "cell_type": "code",
      "metadata": {
        "colab": {
          "base_uri": "https://localhost:8080/"
        },
        "id": "pRozHVg4-UJ2",
        "outputId": "ffde90a8-2bbb-4a1a-b601-217da0136887"
      },
      "source": [
        "Dictionary.update(Dictionary2)\r\n",
        "Dictionary"
      ],
      "execution_count": null,
      "outputs": [
        {
          "output_type": "execute_result",
          "data": {
            "text/plain": [
              "{'Age': 25, 'Name': 'Saiakiran'}"
            ]
          },
          "metadata": {
            "tags": []
          },
          "execution_count": 38
        }
      ]
    },
    {
      "cell_type": "code",
      "metadata": {
        "colab": {
          "base_uri": "https://localhost:8080/"
        },
        "id": "ZDMZhjDc-lBG",
        "outputId": "69356e54-4432-4aaa-d8c9-d8d14a745c6e"
      },
      "source": [
        "Dictionary.values()"
      ],
      "execution_count": null,
      "outputs": [
        {
          "output_type": "execute_result",
          "data": {
            "text/plain": [
              "dict_values(['Saiakiran', 25])"
            ]
          },
          "metadata": {
            "tags": []
          },
          "execution_count": 39
        }
      ]
    },
    {
      "cell_type": "code",
      "metadata": {
        "colab": {
          "base_uri": "https://localhost:8080/"
        },
        "id": "CVK-ueu1-sQ6",
        "outputId": "96b864b9-1222-4389-83d3-d896050cce4f"
      },
      "source": [
        "Dictionary.clear()\r\n",
        "Dictionary"
      ],
      "execution_count": null,
      "outputs": [
        {
          "output_type": "execute_result",
          "data": {
            "text/plain": [
              "{}"
            ]
          },
          "metadata": {
            "tags": []
          },
          "execution_count": 40
        }
      ]
    }
  ]
}
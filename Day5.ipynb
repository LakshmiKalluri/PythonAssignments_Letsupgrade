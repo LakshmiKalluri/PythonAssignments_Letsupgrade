{
  "nbformat": 4,
  "nbformat_minor": 0,
  "metadata": {
    "colab": {
      "name": "Day5.ipynb",
      "provenance": [],
      "authorship_tag": "ABX9TyNvELzJSpGYjs8LGOevRNxr",
      "include_colab_link": true
    },
    "kernelspec": {
      "name": "python3",
      "display_name": "Python 3"
    }
  },
  "cells": [
    {
      "cell_type": "markdown",
      "metadata": {
        "id": "view-in-github",
        "colab_type": "text"
      },
      "source": [
        "<a href=\"https://colab.research.google.com/github/LakshmiKalluri/PythonAssignments_Letsupgrade/blob/main/Day5.ipynb\" target=\"_parent\"><img src=\"https://colab.research.google.com/assets/colab-badge.svg\" alt=\"Open In Colab\"/></a>"
      ]
    },
    {
      "cell_type": "code",
      "metadata": {
        "id": "UMfVfiaf1Q8g"
      },
      "source": [
        "def isPrime(num):\r\n",
        "  if num>1:\r\n",
        "    for i in range(2,num):\r\n",
        "      if(num % i)==0:\r\n",
        "        print(\"it is not prime\")\r\n",
        "        break\r\n",
        "    else:\r\n",
        "          print(\"it is a prime\")\r\n",
        "  else:\r\n",
        "    print(\"it is not prime\")\r\n",
        "          \r\n"
      ],
      "execution_count": 24,
      "outputs": []
    },
    {
      "cell_type": "code",
      "metadata": {
        "colab": {
          "base_uri": "https://localhost:8080/"
        },
        "id": "xiY1talK5I57",
        "outputId": "8335326b-1169-4605-eb15-a3ab617abc86"
      },
      "source": [
        "isPrime(5)"
      ],
      "execution_count": 25,
      "outputs": [
        {
          "output_type": "stream",
          "text": [
            "it is a prime\n"
          ],
          "name": "stdout"
        }
      ]
    },
    {
      "cell_type": "code",
      "metadata": {
        "colab": {
          "base_uri": "https://localhost:8080/"
        },
        "id": "jJojIG4I5Nba",
        "outputId": "ccdb8f65-0f91-48a1-ff71-9d5a55dc6d6f"
      },
      "source": [
        "isPrime(14)"
      ],
      "execution_count": 26,
      "outputs": [
        {
          "output_type": "stream",
          "text": [
            "it is not prime\n"
          ],
          "name": "stdout"
        }
      ]
    }
  ]
}
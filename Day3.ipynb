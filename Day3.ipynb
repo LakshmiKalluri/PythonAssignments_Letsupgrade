{
  "nbformat": 4,
  "nbformat_minor": 0,
  "metadata": {
    "colab": {
      "name": "Day3.ipynb",
      "provenance": [],
      "authorship_tag": "ABX9TyPiKq1s60ermj39dAIR5BWp",
      "include_colab_link": true
    },
    "kernelspec": {
      "name": "python3",
      "display_name": "Python 3"
    }
  },
  "cells": [
    {
      "cell_type": "markdown",
      "metadata": {
        "id": "view-in-github",
        "colab_type": "text"
      },
      "source": [
        "<a href=\"https://colab.research.google.com/github/LakshmiKalluri/PythonAssignments_Letsupgrade/blob/main/Day3.ipynb\" target=\"_parent\"><img src=\"https://colab.research.google.com/assets/colab-badge.svg\" alt=\"Open In Colab\"/></a>"
      ]
    },
    {
      "cell_type": "markdown",
      "metadata": {
        "id": "x3_VBroRtbwQ"
      },
      "source": [
        "***Assignment-2***\r\n",
        "\r\n",
        "**Write a Program on landing a plane using IF ELIF ELSE**"
      ]
    },
    {
      "cell_type": "code",
      "metadata": {
        "colab": {
          "base_uri": "https://localhost:8080/"
        },
        "id": "rgk6xT7juJET",
        "outputId": "e5a16fd5-d83f-4f90-93ef-23aae215bbfd"
      },
      "source": [
        "\r\n",
        "Altitude = int(input(\"Enter the altitude range:\"))\r\n",
        "if (Altitude<1000) :\r\n",
        " print(\"Safe to land\")\r\n",
        "elif (Altitude>1000 and Altitude<5000) :\r\n",
        " print(\"Bring down to 1000\")\r\n",
        "else :\r\n",
        "   print(\"Turn around\")"
      ],
      "execution_count": null,
      "outputs": [
        {
          "output_type": "stream",
          "text": [
            "Enter the altitude range:3500\n",
            "Bring down to 1000\n"
          ],
          "name": "stdout"
        }
      ]
    }
  ]
}